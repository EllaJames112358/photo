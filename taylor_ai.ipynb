{
  "nbformat": 4,
  "nbformat_minor": 0,
  "metadata": {
    "colab": {
      "provenance": [],
      "gpuType": "T4",
      "include_colab_link": true
    },
    "kernelspec": {
      "name": "python3",
      "display_name": "Python 3"
    },
    "language_info": {
      "name": "python"
    },
    "accelerator": "GPU"
  },
  "cells": [
    {
      "cell_type": "markdown",
      "metadata": {
        "id": "view-in-github",
        "colab_type": "text"
      },
      "source": [
        "<a href=\"https://colab.research.google.com/github/EllaJames112358/photo/blob/main/taylor_ai.ipynb\" target=\"_parent\"><img src=\"https://colab.research.google.com/assets/colab-badge.svg\" alt=\"Open In Colab\"/></a>"
      ]
    },
    {
      "cell_type": "markdown",
      "source": [],
      "metadata": {
        "id": "HFg224uiy3rZ"
      }
    },
    {
      "cell_type": "markdown",
      "source": [
        "importing dependencies and loading the packages"
      ],
      "metadata": {
        "id": "5CvLcap7fuBm"
      }
    },
    {
      "cell_type": "code",
      "execution_count": 2,
      "metadata": {
        "colab": {
          "base_uri": "https://localhost:8080/"
        },
        "id": "TTOmhCMceSPw",
        "outputId": "d0388885-1aeb-4808-d717-528416afce9d"
      },
      "outputs": [
        {
          "output_type": "stream",
          "name": "stdout",
          "text": [
            "Colab only includes TensorFlow 2.x; %tensorflow_version has no effect.\n"
          ]
        }
      ],
      "source": [
        "%tensorflow_version 2.x\n",
        "!pip install -q gpt-2-simple\n",
        "import gpt_2_simple as gpt2\n",
        "from google.colab import files"
      ]
    },
    {
      "cell_type": "markdown",
      "source": [
        "downloading the gpt-2"
      ],
      "metadata": {
        "id": "3EasYirDfrgv"
      }
    },
    {
      "cell_type": "code",
      "source": [
        "gpt2.download_gpt2()"
      ],
      "metadata": {
        "colab": {
          "base_uri": "https://localhost:8080/"
        },
        "id": "TM_77pD8fERz",
        "outputId": "43250688-f67d-4db0-ad85-9ed31e9d57b1"
      },
      "execution_count": null,
      "outputs": [
        {
          "output_type": "stream",
          "name": "stderr",
          "text": [
            "Fetching checkpoint: 1.05Mit [00:00, 733Mit/s]                                                      \n",
            "Fetching encoder.json: 1.05Mit [00:00, 2.61Mit/s]\n",
            "Fetching hparams.json: 1.05Mit [00:00, 644Mit/s]                                                    \n",
            "Fetching model.ckpt.data-00000-of-00001: 498Mit [00:10, 46.9Mit/s]                                  \n",
            "Fetching model.ckpt.index: 1.05Mit [00:00, 528Mit/s]                                                \n",
            "Fetching model.ckpt.meta: 1.05Mit [00:00, 5.15Mit/s]\n",
            "Fetching vocab.bpe: 1.05Mit [00:00, 6.13Mit/s]\n"
          ]
        }
      ]
    },
    {
      "cell_type": "code",
      "source": [
        "sess = gpt2.start_tf_sess()\n",
        "gpt2.finetune(sess, /content/dataset=dataset.txt,\n",
        "model_name='124M',\n",
        "steps=1000)"
      ],
      "metadata": {
        "colab": {
          "base_uri": "https://localhost:8080/",
          "height": 130
        },
        "id": "9GkzeDpi3TUs",
        "outputId": "4f49decd-dfa7-40b7-c7f9-8b5e1cf041ae"
      },
      "execution_count": 3,
      "outputs": [
        {
          "output_type": "error",
          "ename": "SyntaxError",
          "evalue": "ignored",
          "traceback": [
            "\u001b[0;36m  File \u001b[0;32m\"<ipython-input-3-2894da7e4d7f>\"\u001b[0;36m, line \u001b[0;32m2\u001b[0m\n\u001b[0;31m    gpt2.finetune(sess, /content/dataset=dataset.txt,\u001b[0m\n\u001b[0m                        ^\u001b[0m\n\u001b[0;31mSyntaxError\u001b[0m\u001b[0;31m:\u001b[0m invalid syntax\n"
          ]
        }
      ]
    }
  ]
}